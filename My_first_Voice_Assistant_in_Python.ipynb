{
 "cells": [
  {
   "cell_type": "markdown",
   "metadata": {},
   "source": [
    "### Setp 1 - Import the necessary libraries"
   ]
  },
  {
   "cell_type": "code",
   "execution_count": null,
   "metadata": {},
   "outputs": [],
   "source": [
    "pip install pyttsx3"
   ]
  },
  {
   "cell_type": "code",
   "execution_count": null,
   "metadata": {},
   "outputs": [],
   "source": [
    "import pyttsx3"
   ]
  },
  {
   "cell_type": "code",
   "execution_count": null,
   "metadata": {},
   "outputs": [],
   "source": [
    "pip install SpeechRecognition"
   ]
  },
  {
   "cell_type": "code",
   "execution_count": null,
   "metadata": {},
   "outputs": [],
   "source": [
    "import speech_recognition as sr"
   ]
  },
  {
   "cell_type": "code",
   "execution_count": null,
   "metadata": {},
   "outputs": [],
   "source": [
    "import webbrowser"
   ]
  },
  {
   "cell_type": "code",
   "execution_count": null,
   "metadata": {},
   "outputs": [],
   "source": [
    "import datetime"
   ]
  },
  {
   "cell_type": "code",
   "execution_count": null,
   "metadata": {},
   "outputs": [],
   "source": [
    "pip install pywhatkit"
   ]
  },
  {
   "cell_type": "code",
   "execution_count": null,
   "metadata": {},
   "outputs": [],
   "source": [
    "import pywhatkit"
   ]
  },
  {
   "cell_type": "code",
   "execution_count": null,
   "metadata": {},
   "outputs": [],
   "source": [
    "import os"
   ]
  },
  {
   "cell_type": "code",
   "execution_count": null,
   "metadata": {},
   "outputs": [],
   "source": [
    "pip install yfinance"
   ]
  },
  {
   "cell_type": "code",
   "execution_count": null,
   "metadata": {},
   "outputs": [],
   "source": [
    "import yfinance as yf"
   ]
  },
  {
   "cell_type": "code",
   "execution_count": null,
   "metadata": {},
   "outputs": [],
   "source": [
    "pip install pyjokes"
   ]
  },
  {
   "cell_type": "code",
   "execution_count": null,
   "metadata": {},
   "outputs": [],
   "source": [
    "import pyjokes"
   ]
  },
  {
   "cell_type": "markdown",
   "metadata": {},
   "source": [
    "#### PyAudio intallation is required before inputting the following function, so it is important to check that you have available in your machine:\n",
    "    ####  1.- latest Python version  \n",
    "    ####  2.- latests Anaconda version  \n",
    "#### Then:\n",
    "    ####  - conda install portaudio\n",
    "    ####  - pip install pyaudio\n",
    "    ####  - import pyaudio"
   ]
  },
  {
   "cell_type": "code",
   "execution_count": null,
   "metadata": {},
   "outputs": [],
   "source": [
    "conda install portaudio"
   ]
  },
  {
   "cell_type": "code",
   "execution_count": null,
   "metadata": {},
   "outputs": [],
   "source": [
    "pip install pyaudio"
   ]
  },
  {
   "cell_type": "code",
   "execution_count": null,
   "metadata": {},
   "outputs": [],
   "source": [
    "import pyaudio"
   ]
  },
  {
   "cell_type": "markdown",
   "metadata": {},
   "source": [
    "### Step 2 - 1stFunction : listen to the microphone and return the audio as text using google"
   ]
  },
  {
   "cell_type": "code",
   "execution_count": null,
   "metadata": {},
   "outputs": [],
   "source": [
    "def transform():\n",
    "    r = sr.Recognizer()\n",
    "    with sr.Microphone() as source:\n",
    "        r.pause_threshold = 0.8\n",
    "        said = r.listen(source)\n",
    "        try:\n",
    "            print('Adelante, te escucho.')\n",
    "            q = r.recognize_google(said, language=\"es\")\n",
    "            return q\n",
    "        except sr.UnknownValueError:\n",
    "            print('Lo siento, no te he entendido.')\n",
    "            return('Estoy a la espera.')\n",
    "        except sr.RequestError:\n",
    "            print('Lo siento, el servicio está caído.')\n",
    "            return('Estoy a la expera.')\n",
    "        except:\n",
    "            return('Estoy esperando.')"
   ]
  },
  {
   "cell_type": "code",
   "execution_count": null,
   "metadata": {},
   "outputs": [],
   "source": [
    "transform()"
   ]
  },
  {
   "cell_type": "markdown",
   "metadata": {},
   "source": [
    "### Step 3 - 2ndFunction : convert "
   ]
  },
  {
   "cell_type": "code",
   "execution_count": null,
   "metadata": {},
   "outputs": [],
   "source": [
    "def speaking(message):\n",
    "    engine = pyttsx3.init()\n",
    "    engine.say(message)\n",
    "    engine.runAndWait()"
   ]
  },
  {
   "cell_type": "code",
   "execution_count": null,
   "metadata": {},
   "outputs": [],
   "source": [
    "speaking('Hola qué tal la tarde con Darío y Carlos?')"
   ]
  },
  {
   "cell_type": "code",
   "execution_count": null,
   "metadata": {},
   "outputs": [],
   "source": [
    "engine = pyttsx3.init()\n",
    "for voice in engine.getProperty('voices'):\n",
    "    print(voice)"
   ]
  },
  {
   "cell_type": "code",
   "execution_count": null,
   "metadata": {},
   "outputs": [],
   "source": [
    "id = 'com.apple.speech.synthesis.voice.monica.premium'\n",
    "engine.setProperty('voice', id)\n",
    "engine.say('me gusta los sacos de dormir')\n",
    "engine.runAndWait()"
   ]
  },
  {
   "cell_type": "markdown",
   "metadata": {},
   "source": [
    "### Step 4 - 3rdFunction : return the weekday"
   ]
  },
  {
   "cell_type": "code",
   "execution_count": null,
   "metadata": {},
   "outputs": [],
   "source": [
    "def query_day():\n",
    "    day = datetime.date.today()\n",
    "    print(day)\n",
    "    weekday = day.weekday()\n",
    "    print(weekday)\n",
    "    mapping = {\n",
    "        0: 'Lunes',\n",
    "        1: 'Martes',\n",
    "        2: 'Miércoles',\n",
    "        3: 'Jueves',\n",
    "        4: 'Viernes',\n",
    "        5: 'Sábado',\n",
    "        6: 'Domingo'\n",
    "    }\n",
    "    try:\n",
    "        speaking(f'Hoy es {mapping[weekday]}')\n",
    "    except:\n",
    "        pass"
   ]
  },
  {
   "cell_type": "code",
   "execution_count": null,
   "metadata": {},
   "outputs": [],
   "source": [
    "query_day()"
   ]
  },
  {
   "cell_type": "markdown",
   "metadata": {},
   "source": [
    "### Step 5 - 4thFunction : return the time"
   ]
  },
  {
   "cell_type": "code",
   "execution_count": null,
   "metadata": {},
   "outputs": [],
   "source": [
    "def query_time():\n",
    "    time = datetime.datetime.now().strftime(\"%I:%M:%S\")\n",
    "    print(time)\n",
    "    speaking(f\"{time[0:2]} en punto y {time[3:5]} minutos, con {time[6:8]} segundos.\")"
   ]
  },
  {
   "cell_type": "code",
   "execution_count": null,
   "metadata": {},
   "outputs": [],
   "source": [
    "query_time()"
   ]
  },
  {
   "cell_type": "markdown",
   "metadata": {},
   "source": [
    "### Step 6 - 5thFunction : greetings "
   ]
  },
  {
   "cell_type": "code",
   "execution_count": null,
   "metadata": {},
   "outputs": [],
   "source": [
    "def whatsup():\n",
    "    speaking('''Hola, me llamo Leocadia.\n",
    "    Raquel me ha creado para ser tu asistente.\n",
    "    ¿Cómo puedo ayudarte?\n",
    "    ''')"
   ]
  },
  {
   "cell_type": "code",
   "execution_count": null,
   "metadata": {},
   "outputs": [],
   "source": [
    "whatsup()"
   ]
  },
  {
   "cell_type": "markdown",
   "metadata": {},
   "source": [
    "### Step 7 - 6thFunction : take queries and return answers"
   ]
  },
  {
   "cell_type": "code",
   "execution_count": null,
   "metadata": {},
   "outputs": [],
   "source": [
    "import wikipedia"
   ]
  },
  {
   "cell_type": "code",
   "execution_count": null,
   "metadata": {},
   "outputs": [],
   "source": [
    "def querying():\n",
    "    whatsup()\n",
    "    start = True\n",
    "    while(start):\n",
    "        q = transform().lower()\n",
    "        if 'abre youtube' in q:\n",
    "            speaking('starting youtube. Just a second.')\n",
    "            webbrowser.open('https://www.youtube.com')\n",
    "            continue\n",
    "            \n",
    "        elif 'abre una página web' in q:\n",
    "            speaking('opening browser')\n",
    "            webbrowser.open('https://www.google.com')\n",
    "            continue\n",
    "        \n",
    "        elif '¿qué día es hoy?' in q:\n",
    "            query_day()\n",
    "            continue\n",
    "            \n",
    "        elif '¿qué hora es?' in q:\n",
    "            query_time()\n",
    "            continue\n",
    "            \n",
    "        elif 'Apágate, gracias.' in q:\n",
    "            speaking('ok I am shutting down')\n",
    "            break\n",
    "            \n",
    "        elif 'wikipedia' in q:\n",
    "            speaking('buscando en wikipedia')\n",
    "            q = q.replace('wikipedia', '')\n",
    "            result = wikipedia.summary(q, sentences=3)\n",
    "            speaking('en wikipedia he encontrado')\n",
    "            speaking(result)\n",
    "            continue\n",
    "            \n",
    "        elif 'tu nombre' in q:\n",
    "            speaking('Encantada, yo soy Leocadia, hoy seré su asistente virtual')\n",
    "            continue\n",
    "        \n",
    "        elif 'busca en internet' in q:\n",
    "            pywhatkit.search(q)\n",
    "            speaking('he encontrado ésto')\n",
    "            continue\n",
    "            \n",
    "        elif 'pon' in q:\n",
    "            speaking(f'poniendo {q}')\n",
    "            pywhatkit.playonyt(q)\n",
    "            continue\n",
    "            \n",
    "        elif 'chiste' in q:\n",
    "            speaking(pyjokes.get_joke())\n",
    "            continue\n",
    "            \n",
    "        elif 'stock price' in q:\n",
    "            search = q.split('of')[-1].strip()\n",
    "            lookup = {'apple':'AAPL',\n",
    "                     'amazon':'AMZN',\n",
    "                     'google':'GOOGL'}\n",
    "            try:\n",
    "                stock = loopup[search]\n",
    "                stock = yf.Ticker(stock)\n",
    "                currentprice = stock.info['regularMarketPrice']\n",
    "                speaking(f'lo encontré, el precio es {search} is {currentprices}')\n",
    "                continue\n",
    "            except:\n",
    "                speaking(f'lo siento, no encuetro el dato para {search}')\n",
    "                continue\n",
    "            continue"
   ]
  },
  {
   "cell_type": "code",
   "execution_count": null,
   "metadata": {},
   "outputs": [],
   "source": [
    "querying()"
   ]
  }
 ],
 "metadata": {
  "kernelspec": {
   "display_name": "Python 3",
   "language": "python",
   "name": "python3"
  },
  "language_info": {
   "codemirror_mode": {
    "name": "ipython",
    "version": 3
   },
   "file_extension": ".py",
   "mimetype": "text/x-python",
   "name": "python",
   "nbconvert_exporter": "python",
   "pygments_lexer": "ipython3",
   "version": "3.8.8"
  }
 },
 "nbformat": 4,
 "nbformat_minor": 4
}
